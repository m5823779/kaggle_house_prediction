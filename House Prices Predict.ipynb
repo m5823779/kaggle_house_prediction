{
 "cells": [
  {
   "cell_type": "markdown",
   "metadata": {},
   "source": [
    "# [House Prices Predict](https://www.kaggle.com/c/house-prices-advanced-regression-techniques)"
   ]
  },
  {
   "cell_type": "markdown",
   "metadata": {},
   "source": [
    "### 第一步：探索式資料分析 EDA(exploratory data analysis)\n",
    "\n",
    "* 釐清問題: 屬於 $Regression$ 還是 $classification$ 問題\n",
    "* 觀察特徵\n",
    "* 對資料先進行初步整理\n",
    "* 建立思考方向: \n",
    "    * 從預測值下手: 當房價變化時，哪些特徵有明顯的變化?  (正相關, 負相關, 無相關, 離群值)\n",
    "    * 從特徵下手: 當某一個特徵變化時，哪些特徵亦有明顯的變化?  (ECDF(empirical distribution function))\n",
    "* 清楚方向之後，針對特徵進行更進一步的篩選或是處理(例如: 排除無助於預測的特徵、離群值, 轉換類別數據, 特徵轉換)\n",
    "\n",
    "### 第二步：建立預測模型\n",
    "    \n",
    "###  第三部：模型評估\n",
    "\n",
    "* 針對迴歸問題，經常使用的評價指標有\n",
    "    * 平均方差 $MSE$ `(mean_squared_error)`\n",
    "    * 平均絕對誤差 $MAE$ `(mean_absolute_error)`\n",
    "    * 判定係數 $R^2$ `(R-squared)`"
   ]
  },
  {
   "cell_type": "markdown",
   "metadata": {},
   "source": [
    "### 導入模塊"
   ]
  },
  {
   "cell_type": "code",
   "execution_count": 1,
   "metadata": {},
   "outputs": [],
   "source": [
    "import numpy as np\n",
    "import pandas as pd\n",
    "import seaborn as sns\n",
    "import matplotlib.pyplot as plt\n",
    "from matplotlib.pylab import rcParams\n",
    "\n",
    "from sklearn.preprocessing import RobustScaler, StandardScaler\n",
    "from sklearn.pipeline import Pipeline\n",
    "from sklearn.base import BaseEstimator, TransformerMixin, RegressorMixin, clone\n",
    "from sklearn.preprocessing import LabelEncoder\n",
    "from sklearn.decomposition import PCA\n",
    "from scipy.stats import skew\n",
    "from sklearn.preprocessing import Imputer\n",
    "\n",
    "from sklearn.model_selection import cross_val_score, KFold\n",
    "from sklearn.linear_model import LinearRegression\n",
    "from sklearn.linear_model import Ridge\n",
    "from sklearn.linear_model import Lasso\n",
    "from sklearn.ensemble import RandomForestRegressor, GradientBoostingRegressor, ExtraTreesRegressor\n",
    "from sklearn.svm import SVR, LinearSVR\n",
    "from sklearn.linear_model import ElasticNet, SGDRegressor, BayesianRidge\n",
    "from sklearn.kernel_ridge import KernelRidge\n",
    "from xgboost import XGBRegressor"
   ]
  },
  {
   "cell_type": "markdown",
   "metadata": {},
   "source": [
    "### 讀取資料"
   ]
  },
  {
   "cell_type": "code",
   "execution_count": 2,
   "metadata": {},
   "outputs": [],
   "source": [
    "# 房價資料包含了79個特徵，訓練資料數量為1460筆，測試資料則為1459筆\n",
    "train = pd.read_csv('./data/train.csv')\n",
    "test = pd.read_csv('./data/test.csv')"
   ]
  },
  {
   "cell_type": "code",
   "execution_count": 3,
   "metadata": {},
   "outputs": [
    {
     "name": "stdout",
     "output_type": "stream",
     "text": [
      "資料個數 : 1460\n",
      "資料特徵 : 79\n",
      "特徵名稱 : \n",
      "['MSSubClass', 'MSZoning', 'LotFrontage', 'LotArea', 'Street', 'Alley', 'LotShape', 'LandContour', 'Utilities', 'LotConfig', 'LandSlope', 'Neighborhood', 'Condition1', 'Condition2', 'BldgType', 'HouseStyle', 'OverallQual', 'OverallCond', 'YearBuilt', 'YearRemodAdd', 'RoofStyle', 'RoofMatl', 'Exterior1st', 'Exterior2nd', 'MasVnrType', 'MasVnrArea', 'ExterQual', 'ExterCond', 'Foundation', 'BsmtQual', 'BsmtCond', 'BsmtExposure', 'BsmtFinType1', 'BsmtFinSF1', 'BsmtFinType2', 'BsmtFinSF2', 'BsmtUnfSF', 'TotalBsmtSF', 'Heating', 'HeatingQC', 'CentralAir', 'Electrical', '1stFlrSF', '2ndFlrSF', 'LowQualFinSF', 'GrLivArea', 'BsmtFullBath', 'BsmtHalfBath', 'FullBath', 'HalfBath', 'BedroomAbvGr', 'KitchenAbvGr', 'KitchenQual', 'TotRmsAbvGrd', 'Functional', 'Fireplaces', 'FireplaceQu', 'GarageType', 'GarageYrBlt', 'GarageFinish', 'GarageCars', 'GarageArea', 'GarageQual', 'GarageCond', 'PavedDrive', 'WoodDeckSF', 'OpenPorchSF', 'EnclosedPorch', '3SsnPorch', 'ScreenPorch', 'PoolArea', 'PoolQC', 'Fence', 'MiscFeature', 'MiscVal', 'MoSold', 'YrSold', 'SaleType', 'SaleCondition']\n"
     ]
    }
   ],
   "source": [
    "print(f'資料個數 : {len(train.index)}')\n",
    "print(f'資料特徵 : {len(train.columns[1:-1])}')  # 扣除 ID 和 target\n",
    "print(f'特徵名稱 : \\n{list(train.columns[1:-1])}')"
   ]
  },
  {
   "cell_type": "code",
   "execution_count": 4,
   "metadata": {},
   "outputs": [
    {
     "name": "stdout",
     "output_type": "stream",
     "text": [
      "總資料個數 : 2919\n",
      "總資料特徵 : 79\n"
     ]
    }
   ],
   "source": [
    "# 將訓練資料與測試資料合併，原因是為了同時觀察全部資料的缺失值、欄位評級\n",
    "alldata = pd.concat((train.loc[:, 'MSSubClass':'SaleCondition'], test.loc[:, 'MSSubClass':'SaleCondition']))\n",
    "alldata = alldata.reset_index(drop=True)\n",
    "print(f'總資料個數 : {len(alldata.index)}')\n",
    "print(f'總資料特徵 : {len(alldata.columns)}')"
   ]
  },
  {
   "cell_type": "markdown",
   "metadata": {},
   "source": [
    "### 統計資料缺失值\n",
    "* 資料探索，檢查了所有資料的缺失值 `NaN`"
   ]
  },
  {
   "cell_type": "code",
   "execution_count": 5,
   "metadata": {},
   "outputs": [
    {
     "name": "stdout",
     "output_type": "stream",
     "text": [
      "PoolQC          缺失值的個數(訓練集 + 測試集) : 2909\n",
      "MiscFeature     缺失值的個數(訓練集 + 測試集) : 2814\n",
      "Alley           缺失值的個數(訓練集 + 測試集) : 2721\n",
      "Fence           缺失值的個數(訓練集 + 測試集) : 2348\n",
      "FireplaceQu     缺失值的個數(訓練集 + 測試集) : 1420\n",
      "GarageFinish    缺失值的個數(訓練集 + 測試集) : 159 \n",
      "GarageQual      缺失值的個數(訓練集 + 測試集) : 159 \n",
      "GarageCond      缺失值的個數(訓練集 + 測試集) : 159 \n",
      "GarageType      缺失值的個數(訓練集 + 測試集) : 157 \n",
      "BsmtExposure    缺失值的個數(訓練集 + 測試集) : 82  \n",
      "BsmtCond        缺失值的個數(訓練集 + 測試集) : 82  \n",
      "BsmtQual        缺失值的個數(訓練集 + 測試集) : 81  \n",
      "BsmtFinType2    缺失值的個數(訓練集 + 測試集) : 80  \n",
      "BsmtFinType1    缺失值的個數(訓練集 + 測試集) : 79  \n",
      "MasVnrType      缺失值的個數(訓練集 + 測試集) : 24  \n",
      "MSZoning        缺失值的個數(訓練集 + 測試集) : 4   \n",
      "Utilities       缺失值的個數(訓練集 + 測試集) : 2   \n",
      "Functional      缺失值的個數(訓練集 + 測試集) : 2   \n",
      "Exterior2nd     缺失值的個數(訓練集 + 測試集) : 1   \n",
      "Exterior1st     缺失值的個數(訓練集 + 測試集) : 1   \n",
      "SaleType        缺失值的個數(訓練集 + 測試集) : 1   \n",
      "Electrical      缺失值的個數(訓練集 + 測試集) : 1   \n",
      "KitchenQual     缺失值的個數(訓練集 + 測試集) : 1   \n"
     ]
    }
   ],
   "source": [
    "missing_num = np.sum(alldata.isnull())\n",
    "missing_num = missing_num[missing_num > 0].sort_values(ascending=False)\n",
    "for feature, val in zip(missing_num.index, missing_num.values):\n",
    "    if (alldata[feature].dtype == 'object'):\n",
    "        print(f'{feature:<15s} 缺失值的個數(訓練集 + 測試集) : {val:<4d}')\n"
   ]
  },
  {
   "cell_type": "markdown",
   "metadata": {},
   "source": [
    "### 資料清洗 (Data Cleaning)\n",
    "* 填補缺失值 `NaN`"
   ]
  },
  {
   "cell_type": "code",
   "execution_count": 6,
   "metadata": {},
   "outputs": [],
   "source": [
    "# 填補缺失值\n",
    "def fill_nan(data):\n",
    "    data['LotFrontage'] = data['LotFrontage'].fillna(0)\n",
    "    data['BsmtFinSF1'] = data['BsmtFinSF1'].fillna(0)\n",
    "    data['BsmtFinSF2'] = data['BsmtFinSF2'].fillna(0)\n",
    "    data['Alley'] = data['Alley'].fillna('None')\n",
    "    data['MasVnrType'] = data['MasVnrType'].fillna('None')\n",
    "    data['MasVnrArea'] = data['MasVnrArea'].fillna(0)\n",
    "    data['BsmtQual'] = data['BsmtQual'].fillna('None')\n",
    "    data['BsmtCond'] = data['BsmtCond'].fillna('None')\n",
    "    data['BsmtExposure'] = data['BsmtExposure'].fillna('None')\n",
    "    data['BsmtFinType1'] = data['BsmtFinType1'].fillna('None')\n",
    "    data['BsmtFinType2'] = data['BsmtFinType2'].fillna('None')\n",
    "    data['Electrical'] = data['Electrical'].fillna('SBrkr')\n",
    "    data['FireplaceQu'] = data['FireplaceQu'].fillna('None')\n",
    "    data['GarageType'] = data['GarageType'].fillna('Attchd')\n",
    "    data = data.drop('GarageYrBlt', axis=1)\n",
    "    data['GarageFinish'] = data['GarageFinish'].fillna('Unf')\n",
    "    data['GarageQual'] = data['GarageQual'].fillna('TA')\n",
    "    data['GarageCond'] = data['GarageCond'].fillna('TA')\n",
    "    data['PoolQC'] = data['PoolQC'].fillna('None')\n",
    "    data['Fence'] = data['Fence'].fillna('None')\n",
    "    data['MiscFeature'] = data['MiscFeature'].fillna('None')\n",
    "    data['MSZoning'] = data['MSZoning'].fillna(data['MSZoning'].mode()[0]) # 針對數量極少的NaN，直接使用眾數來代替\n",
    "    data['Utilities'] = data['Utilities'].fillna(data['Utilities'].mode()[0])\n",
    "    data['Exterior1st'] = data['Exterior1st'].fillna(data['Exterior1st'].mode()[0])\n",
    "    data['Exterior2nd'] = data['Exterior2nd'].fillna(data['Exterior2nd'].mode()[0])\n",
    "    data['BsmtUnfSF'] = data['BsmtUnfSF'].fillna(data['BsmtUnfSF'].mode()[0])\n",
    "    data['TotalBsmtSF'] = data['TotalBsmtSF'].fillna(data['TotalBsmtSF'].mode()[0])\n",
    "    data['BsmtFullBath'] = data['BsmtFullBath'].fillna(data['BsmtFullBath'].mode()[0])\n",
    "    data['BsmtHalfBath'] = data['BsmtHalfBath'].fillna(data['BsmtHalfBath'].mode()[0])\n",
    "    data['KitchenQual'] = data['KitchenQual'].fillna(data['KitchenQual'].mode()[0])\n",
    "    data['Functional'] = data['Functional'].fillna(data['Functional'].mode()[0])\n",
    "    data['GarageCars'] = data['GarageCars'].fillna(data['GarageCars'].mode()[0])\n",
    "    data['GarageArea'] = data['GarageArea'].fillna(data['GarageArea'].mode()[0])\n",
    "    data['SaleType'] = data['SaleType'].fillna(data['SaleType'].mode()[0])\n",
    "\n",
    "    return data"
   ]
  },
  {
   "cell_type": "code",
   "execution_count": 7,
   "metadata": {},
   "outputs": [
    {
     "name": "stdout",
     "output_type": "stream",
     "text": [
      "處理完後NaN數量: 0\n"
     ]
    }
   ],
   "source": [
    "alldata = fill_nan(alldata)\n",
    "print('處理完後NaN數量:',alldata.isnull().any().sum())"
   ]
  },
  {
   "cell_type": "markdown",
   "metadata": {},
   "source": [
    "### 特徵工程 (Feature Engineering)"
   ]
  },
  {
   "cell_type": "code",
   "execution_count": 8,
   "metadata": {},
   "outputs": [
    {
     "name": "stdout",
     "output_type": "stream",
     "text": [
      "MSZoning     資料類別object ['C (all)' 'FV' 'RH' 'RL' 'RM']\n",
      "-----------------------------------------------------------------------------------------------------\n",
      "Street       資料類別object ['Grvl' 'Pave']\n",
      "-----------------------------------------------------------------------------------------------------\n",
      "Alley        資料類別object ['Grvl' 'None' 'Pave']\n",
      "-----------------------------------------------------------------------------------------------------\n",
      "LotShape     資料類別object ['IR1' 'IR2' 'IR3' 'Reg']\n",
      "-----------------------------------------------------------------------------------------------------\n",
      "LandContour  資料類別object ['Bnk' 'HLS' 'Low' 'Lvl']\n",
      "-----------------------------------------------------------------------------------------------------\n",
      "Utilities    資料類別object ['AllPub' 'NoSeWa']\n",
      "-----------------------------------------------------------------------------------------------------\n",
      "LotConfig    資料類別object ['Corner' 'CulDSac' 'FR2' 'FR3' 'Inside']\n",
      "-----------------------------------------------------------------------------------------------------\n",
      "LandSlope    資料類別object ['Gtl' 'Mod' 'Sev']\n",
      "-----------------------------------------------------------------------------------------------------\n",
      "Neighborhood 資料類別object ['Blmngtn' 'Blueste' 'BrDale' 'BrkSide' 'ClearCr' 'CollgCr' 'Crawfor'\n",
      " 'Edwards' 'Gilbert' 'IDOTRR' 'MeadowV' 'Mitchel' 'NAmes' 'NPkVill'\n",
      " 'NWAmes' 'NoRidge' 'NridgHt' 'OldTown' 'SWISU' 'Sawyer' 'SawyerW'\n",
      " 'Somerst' 'StoneBr' 'Timber' 'Veenker']\n",
      "-----------------------------------------------------------------------------------------------------\n",
      "Condition1   資料類別object ['Artery' 'Feedr' 'Norm' 'PosA' 'PosN' 'RRAe' 'RRAn' 'RRNe' 'RRNn']\n",
      "-----------------------------------------------------------------------------------------------------\n",
      "Condition2   資料類別object ['Artery' 'Feedr' 'Norm' 'PosA' 'PosN' 'RRAe' 'RRAn' 'RRNn']\n",
      "-----------------------------------------------------------------------------------------------------\n",
      "BldgType     資料類別object ['1Fam' '2fmCon' 'Duplex' 'Twnhs' 'TwnhsE']\n",
      "-----------------------------------------------------------------------------------------------------\n",
      "HouseStyle   資料類別object ['1.5Fin' '1.5Unf' '1Story' '2.5Fin' '2.5Unf' '2Story' 'SFoyer' 'SLvl']\n",
      "-----------------------------------------------------------------------------------------------------\n",
      "RoofStyle    資料類別object ['Flat' 'Gable' 'Gambrel' 'Hip' 'Mansard' 'Shed']\n",
      "-----------------------------------------------------------------------------------------------------\n",
      "RoofMatl     資料類別object ['ClyTile' 'CompShg' 'Membran' 'Metal' 'Roll' 'Tar&Grv' 'WdShake'\n",
      " 'WdShngl']\n",
      "-----------------------------------------------------------------------------------------------------\n",
      "Exterior1st  資料類別object ['AsbShng' 'AsphShn' 'BrkComm' 'BrkFace' 'CBlock' 'CemntBd' 'HdBoard'\n",
      " 'ImStucc' 'MetalSd' 'Plywood' 'Stone' 'Stucco' 'VinylSd' 'Wd Sdng'\n",
      " 'WdShing']\n",
      "-----------------------------------------------------------------------------------------------------\n",
      "Exterior2nd  資料類別object ['AsbShng' 'AsphShn' 'Brk Cmn' 'BrkFace' 'CBlock' 'CmentBd' 'HdBoard'\n",
      " 'ImStucc' 'MetalSd' 'Other' 'Plywood' 'Stone' 'Stucco' 'VinylSd'\n",
      " 'Wd Sdng' 'Wd Shng']\n",
      "-----------------------------------------------------------------------------------------------------\n",
      "MasVnrType   資料類別object ['BrkCmn' 'BrkFace' 'None' 'Stone']\n",
      "-----------------------------------------------------------------------------------------------------\n",
      "ExterQual    資料類別object ['Ex' 'Fa' 'Gd' 'TA']\n",
      "-----------------------------------------------------------------------------------------------------\n",
      "ExterCond    資料類別object ['Ex' 'Fa' 'Gd' 'Po' 'TA']\n",
      "-----------------------------------------------------------------------------------------------------\n",
      "Foundation   資料類別object ['BrkTil' 'CBlock' 'PConc' 'Slab' 'Stone' 'Wood']\n",
      "-----------------------------------------------------------------------------------------------------\n",
      "BsmtQual     資料類別object ['Ex' 'Fa' 'Gd' 'None' 'TA']\n",
      "-----------------------------------------------------------------------------------------------------\n",
      "BsmtCond     資料類別object ['Fa' 'Gd' 'None' 'Po' 'TA']\n",
      "-----------------------------------------------------------------------------------------------------\n",
      "BsmtExposure 資料類別object ['Av' 'Gd' 'Mn' 'No' 'None']\n",
      "-----------------------------------------------------------------------------------------------------\n",
      "BsmtFinType1 資料類別object ['ALQ' 'BLQ' 'GLQ' 'LwQ' 'None' 'Rec' 'Unf']\n",
      "-----------------------------------------------------------------------------------------------------\n",
      "BsmtFinType2 資料類別object ['ALQ' 'BLQ' 'GLQ' 'LwQ' 'None' 'Rec' 'Unf']\n",
      "-----------------------------------------------------------------------------------------------------\n",
      "Heating      資料類別object ['Floor' 'GasA' 'GasW' 'Grav' 'OthW' 'Wall']\n",
      "-----------------------------------------------------------------------------------------------------\n",
      "HeatingQC    資料類別object ['Ex' 'Fa' 'Gd' 'Po' 'TA']\n",
      "-----------------------------------------------------------------------------------------------------\n",
      "CentralAir   資料類別object ['N' 'Y']\n",
      "-----------------------------------------------------------------------------------------------------\n",
      "Electrical   資料類別object ['FuseA' 'FuseF' 'FuseP' 'Mix' 'SBrkr']\n",
      "-----------------------------------------------------------------------------------------------------\n",
      "KitchenQual  資料類別object ['Ex' 'Fa' 'Gd' 'TA']\n",
      "-----------------------------------------------------------------------------------------------------\n",
      "Functional   資料類別object ['Maj1' 'Maj2' 'Min1' 'Min2' 'Mod' 'Sev' 'Typ']\n",
      "-----------------------------------------------------------------------------------------------------\n",
      "FireplaceQu  資料類別object ['Ex' 'Fa' 'Gd' 'None' 'Po' 'TA']\n",
      "-----------------------------------------------------------------------------------------------------\n",
      "GarageType   資料類別object ['2Types' 'Attchd' 'Basment' 'BuiltIn' 'CarPort' 'Detchd']\n",
      "-----------------------------------------------------------------------------------------------------\n",
      "GarageFinish 資料類別object ['Fin' 'RFn' 'Unf']\n",
      "-----------------------------------------------------------------------------------------------------\n",
      "GarageQual   資料類別object ['Ex' 'Fa' 'Gd' 'Po' 'TA']\n",
      "-----------------------------------------------------------------------------------------------------\n",
      "GarageCond   資料類別object ['Ex' 'Fa' 'Gd' 'Po' 'TA']\n",
      "-----------------------------------------------------------------------------------------------------\n",
      "PavedDrive   資料類別object ['N' 'P' 'Y']\n",
      "-----------------------------------------------------------------------------------------------------\n",
      "PoolQC       資料類別object ['Ex' 'Fa' 'Gd' 'None']\n",
      "-----------------------------------------------------------------------------------------------------\n",
      "Fence        資料類別object ['GdPrv' 'GdWo' 'MnPrv' 'MnWw' 'None']\n",
      "-----------------------------------------------------------------------------------------------------\n",
      "MiscFeature  資料類別object ['Gar2' 'None' 'Othr' 'Shed' 'TenC']\n",
      "-----------------------------------------------------------------------------------------------------\n",
      "SaleType     資料類別object ['COD' 'CWD' 'Con' 'ConLD' 'ConLI' 'ConLw' 'New' 'Oth' 'WD']\n",
      "-----------------------------------------------------------------------------------------------------\n",
      "SaleCondition 資料類別object ['Abnorml' 'AdjLand' 'Alloca' 'Family' 'Normal' 'Partial']\n",
      "-----------------------------------------------------------------------------------------------------\n",
      "共43比 Categorical Features\n"
     ]
    }
   ],
   "source": [
    "num_object = 0\n",
    "for col in alldata.columns:\n",
    "    if alldata[col].dtype == 'object':\n",
    "        print(f'{col:<12} 資料類別{alldata[col].dtype} {np.unique(alldata[col])}')\n",
    "        print('-----------------------------------------------------------------------------------------------------')\n",
    "        num_object += 1\n",
    "print(f'共{num_object}比 Categorical Features')"
   ]
  },
  {
   "cell_type": "code",
   "execution_count": 9,
   "metadata": {},
   "outputs": [
    {
     "name": "stdout",
     "output_type": "stream",
     "text": [
      "MSSubClass   資料類別int64\n",
      "LotFrontage  資料類別float64\n",
      "LotArea      資料類別int64\n",
      "OverallQual  資料類別int64\n",
      "OverallCond  資料類別int64\n",
      "YearBuilt    資料類別int64\n",
      "YearRemodAdd 資料類別int64\n",
      "MasVnrArea   資料類別float64\n",
      "BsmtFinSF1   資料類別float64\n",
      "BsmtFinSF2   資料類別float64\n",
      "BsmtUnfSF    資料類別float64\n",
      "TotalBsmtSF  資料類別float64\n",
      "1stFlrSF     資料類別int64\n",
      "2ndFlrSF     資料類別int64\n",
      "LowQualFinSF 資料類別int64\n",
      "GrLivArea    資料類別int64\n",
      "BsmtFullBath 資料類別float64\n",
      "BsmtHalfBath 資料類別float64\n",
      "FullBath     資料類別int64\n",
      "HalfBath     資料類別int64\n",
      "BedroomAbvGr 資料類別int64\n",
      "KitchenAbvGr 資料類別int64\n",
      "TotRmsAbvGrd 資料類別int64\n",
      "Fireplaces   資料類別int64\n",
      "GarageCars   資料類別float64\n",
      "GarageArea   資料類別float64\n",
      "WoodDeckSF   資料類別int64\n",
      "OpenPorchSF  資料類別int64\n",
      "EnclosedPorch 資料類別int64\n",
      "3SsnPorch    資料類別int64\n",
      "ScreenPorch  資料類別int64\n",
      "PoolArea     資料類別int64\n",
      "MiscVal      資料類別int64\n",
      "MoSold       資料類別int64\n",
      "YrSold       資料類別int64\n",
      "共35比 Numerical Features\n"
     ]
    }
   ],
   "source": [
    "num_nonobject = 0\n",
    "for col in alldata.columns:\n",
    "    if alldata[col].dtype != 'object':\n",
    "        print(f'{col:<12} 資料類別{alldata[col].dtype}')\n",
    "        num_nonobject += 1\n",
    "print(f'共{num_nonobject}比 Numerical Features')"
   ]
  },
  {
   "cell_type": "code",
   "execution_count": 10,
   "metadata": {},
   "outputs": [],
   "source": [
    "NumStr = [\"MSSubClass\",\"BsmtFullBath\",\"BsmtHalfBath\",\"HalfBath\",\"BedroomAbvGr\",\"KitchenAbvGr\",\n",
    "          \"MoSold\",\"YrSold\",\"YearBuilt\",\"YearRemodAdd\",\"LowQualFinSF\"]\n",
    "for col in NumStr:\n",
    "    alldata[col] = alldata[col].astype(str)"
   ]
  },
  {
   "cell_type": "markdown",
   "metadata": {},
   "source": [
    "### 針對有意義的各個欄位的順序資料評級給予一個數值\n",
    "* 檢查所有欄位評級，在評價上有優劣關係的欄位，使用`LabelEncoder`轉成數值型態。"
   ]
  },
  {
   "cell_type": "code",
   "execution_count": 11,
   "metadata": {},
   "outputs": [],
   "source": [
    "# 將一些 numerical features 轉換成 categorical features\n",
    "def map_values(data):\n",
    "    data[\"oMSSubClass\"] = data.MSSubClass.map({'180':1, \n",
    "                                        '30':2, '45':2, \n",
    "                                        '190':3, '50':3, '90':3, \n",
    "                                        '85':4, '40':4, '160':4, \n",
    "                                        '70':5, '20':5, '75':5, '80':5, '150':5,\n",
    "                                        '120': 6, '60':6})\n",
    "    \n",
    "    data[\"oMSZoning\"] = data.MSZoning.map({'C (all)':1, 'RH':2, 'RM':2, 'RL':3, 'FV':4})\n",
    "    \n",
    "    data[\"oNeighborhood\"] = data.Neighborhood.map({'MeadowV':1,\n",
    "                                               'IDOTRR':2, 'BrDale':2,\n",
    "                                               'OldTown':3, 'Edwards':3, 'BrkSide':3,\n",
    "                                               'Sawyer':4, 'Blueste':4, 'SWISU':4, 'NAmes':4,\n",
    "                                               'NPkVill':5, 'Mitchel':5,\n",
    "                                               'SawyerW':6, 'Gilbert':6, 'NWAmes':6,\n",
    "                                               'Blmngtn':7, 'CollgCr':7, 'ClearCr':7, 'Crawfor':7,\n",
    "                                               'Veenker':8, 'Somerst':8, 'Timber':8,\n",
    "                                               'StoneBr':9,\n",
    "                                               'NoRidge':10, 'NridgHt':10})\n",
    "    \n",
    "    data[\"oCondition1\"] = data.Condition1.map({'Artery':1,\n",
    "                                           'Feedr':2, 'RRAe':2,\n",
    "                                           'Norm':3, 'RRAn':3,\n",
    "                                           'PosN':4, 'RRNe':4,\n",
    "                                           'PosA':5 ,'RRNn':5})\n",
    "    \n",
    "    data[\"oBldgType\"] = alldata.BldgType.map({'2fmCon':1, 'Duplex':1, 'Twnhs':1, '1Fam':2, 'TwnhsE':2})\n",
    "    \n",
    "    data[\"oHouseStyle\"] = data.HouseStyle.map({'1.5Unf':1, \n",
    "                                           '1.5Fin':2, '2.5Unf':2, 'SFoyer':2, \n",
    "                                           '1Story':3, 'SLvl':3,\n",
    "                                           '2Story':4, '2.5Fin':4})\n",
    "    \n",
    "    data[\"oExterior1st\"] = data.Exterior1st.map({'BrkComm':1,\n",
    "                                             'AsphShn':2, 'CBlock':2, 'AsbShng':2,\n",
    "                                             'WdShing':3, 'Wd Sdng':3, 'MetalSd':3, 'Stucco':3, 'HdBoard':3,\n",
    "                                             'BrkFace':4, 'Plywood':4,\n",
    "                                             'VinylSd':5,\n",
    "                                             'CemntBd':6,\n",
    "                                             'Stone':7, 'ImStucc':7})\n",
    "    \n",
    "    data[\"oMasVnrType\"] = data.MasVnrType.map({'BrkCmn':1, 'None':1, 'BrkFace':2, 'Stone':3})\n",
    "    \n",
    "    data[\"oExterQual\"] = data.ExterQual.map({'Fa':1, 'TA':2, 'Gd':3, 'Ex':4})\n",
    "    \n",
    "    data[\"oFoundation\"] = data.Foundation.map({'Slab':1, \n",
    "                                           'BrkTil':2, 'CBlock':2, 'Stone':2,\n",
    "                                           'Wood':3, 'PConc':4})\n",
    "    \n",
    "    data[\"oBsmtQual\"] = data.BsmtQual.map({'Fa':2, 'None':1, 'TA':3, 'Gd':4, 'Ex':5})\n",
    "    \n",
    "    data[\"oBsmtExposure\"] = data.BsmtExposure.map({'None':1, 'No':2, 'Av':3, 'Mn':3, 'Gd':4})\n",
    "    \n",
    "    data[\"oHeating\"] = data.Heating.map({'Floor':1, 'Grav':1, 'Wall':2, 'OthW':3, 'GasW':4, 'GasA':5})\n",
    "    \n",
    "    data[\"oHeatingQC\"] = data.HeatingQC.map({'Po':1, 'Fa':2, 'TA':3, 'Gd':4, 'Ex':5})\n",
    "    \n",
    "    data[\"oKitchenQual\"] = data.KitchenQual.map({'Fa':1, 'TA':2, 'Gd':3, 'Ex':4})\n",
    "    \n",
    "    data[\"oFunctional\"] = data.Functional.map({'Maj2':1, 'Maj1':2, 'Min1':2, 'Min2':2, 'Mod':2, 'Sev':2, 'Typ':3})\n",
    "    \n",
    "    data[\"oFireplaceQu\"] = data.FireplaceQu.map({'None':1, 'Po':1, 'Fa':2, 'TA':3, 'Gd':4, 'Ex':5})\n",
    "    \n",
    "    data[\"oGarageType\"] = data.GarageType.map({'CarPort':1, 'None':1,\n",
    "                                           'Detchd':2,\n",
    "                                           '2Types':3, 'Basment':3,\n",
    "                                           'Attchd':4, 'BuiltIn':5})\n",
    "    \n",
    "    data[\"oGarageFinish\"] = data.GarageFinish.map({'None':1, 'Unf':2, 'RFn':3, 'Fin':4})\n",
    "    \n",
    "    data[\"oPavedDrive\"] = data.PavedDrive.map({'N':1, 'P':2, 'Y':3})\n",
    "    \n",
    "    data[\"oSaleType\"] = data.SaleType.map({'COD':1, 'ConLD':1, 'ConLI':1, 'ConLw':1, 'Oth':1, 'WD':1,\n",
    "                                       'CWD':2, 'Con':3, 'New':3})\n",
    "    \n",
    "    data[\"oSaleCondition\"] = data.SaleCondition.map({'AdjLand':1, 'Abnorml':2, 'Alloca':2, 'Family':2, 'Normal':3, 'Partial':4})  \n",
    "    \n",
    "    return data"
   ]
  },
  {
   "cell_type": "code",
   "execution_count": 12,
   "metadata": {},
   "outputs": [],
   "source": [
    "alldata = map_values(alldata)"
   ]
  },
  {
   "cell_type": "code",
   "execution_count": 13,
   "metadata": {},
   "outputs": [],
   "source": [
    "# Label Encoding 兩個與年份相關的 Features (有序類別)\n",
    "class label_encoding(BaseEstimator, TransformerMixin):\n",
    "    def __init__(self):\n",
    "        pass\n",
    "    \n",
    "    def fit(self, X, y=None):\n",
    "        return self\n",
    "    \n",
    "    def transform(self, X):\n",
    "        label_encoder = LabelEncoder()\n",
    "        X[\"YearBuilt\"] = label_encoder.fit_transform(X[\"YearBuilt\"])\n",
    "        X[\"YearRemodAdd\"] = label_encoder.fit_transform(X[\"YearRemodAdd\"])\n",
    "        return X"
   ]
  },
  {
   "cell_type": "markdown",
   "metadata": {},
   "source": [
    "### 偏態係數 (檢驗資料分佈是否屬於偏態分佈，確認資料分佈是否對稱)"
   ]
  },
  {
   "cell_type": "markdown",
   "metadata": {},
   "source": [
    "* 為了符合迴歸基本`線性關係`假設，我們針對`偏態係數`大於0.75的欄位以及`SalePrice`進行對數轉換。\n",
    "\n",
    "$$\n",
    "SK = \\frac{3(\\bar{X}-X_{med})}{\\sigma}\n",
    "$$\n",
    "其中，$\\bar{X}$為平均數，$X_med$為中位數，$\\sigma$為標準差。\n",
    "\n",
    "$SK>0$表示右偏(正偏)，$SK<0$表示左偏(負偏)"
   ]
  },
  {
   "cell_type": "code",
   "execution_count": 14,
   "metadata": {},
   "outputs": [],
   "source": [
    "class skew_transform(BaseEstimator, TransformerMixin):\n",
    "    def __init__(self, skew=0.5):\n",
    "        self.skew = skew\n",
    "    \n",
    "    def fit(self, X, y=None):\n",
    "        return self\n",
    "    \n",
    "    def transform(self, X):\n",
    "        X_numeric = X.select_dtypes(exclude=[\"object\"])\n",
    "        skewness = X_numeric.apply(lambda x: skew(x))\n",
    "        skewness_features = skewness[abs(skewness) >= self.skew].index\n",
    "        X[skewness_features] = np.log1p(X[skewness_features])  #還原: alldata[skew_indx].apply(np.expm1)\n",
    "        return X"
   ]
  },
  {
   "cell_type": "markdown",
   "metadata": {},
   "source": [
    "### One Hot Encoding (無序類別)"
   ]
  },
  {
   "cell_type": "markdown",
   "metadata": {},
   "source": [
    "* 將無序的 Categorcial Feature 轉換為數字讓模型輸入\n",
    "\n",
    "其餘沒有優劣關係的名目資料的欄位，我們將其使用`One-hot encoding`來轉換"
   ]
  },
  {
   "cell_type": "code",
   "execution_count": 15,
   "metadata": {},
   "outputs": [],
   "source": [
    "class one_hot_encoding(BaseEstimator, TransformerMixin):\n",
    "    def __init__(self):\n",
    "        pass\n",
    "    \n",
    "    def fit(self, X, y=None):\n",
    "        return self\n",
    "    \n",
    "    def transform(self, X):\n",
    "        X = pd.get_dummies(X)\n",
    "        return X"
   ]
  },
  {
   "cell_type": "code",
   "execution_count": 16,
   "metadata": {},
   "outputs": [],
   "source": [
    "# build pipeline\n",
    "pipe = Pipeline([('label_encoding', label_encoding()), \n",
    "                 ('skew_transform', skew_transform(skew=0.75)), \n",
    "                 ('one_hot_encoding', one_hot_encoding())])"
   ]
  },
  {
   "cell_type": "code",
   "execution_count": 17,
   "metadata": {},
   "outputs": [
    {
     "name": "stdout",
     "output_type": "stream",
     "text": [
      "(2919, 401)\n"
     ]
    }
   ],
   "source": [
    "# save the original data for later use\n",
    "full = alldata.copy()\n",
    "data_pipe = pipe.fit_transform(full)\n",
    "print(data_pipe.shape)"
   ]
  },
  {
   "cell_type": "markdown",
   "metadata": {},
   "source": [
    "### 移除極端值\n",
    "針對連續型態及離散型態的欄位畫圖，去除離群值。"
   ]
  },
  {
   "cell_type": "code",
   "execution_count": 18,
   "metadata": {},
   "outputs": [],
   "source": [
    "# 使用robustscaler，因為可能還有其他極端值\n",
    "scaler = RobustScaler()\n",
    "n_train =train.shape[0]\n",
    "\n",
    "X = data_pipe[:n_train]\n",
    "test_X = data_pipe[n_train:]\n",
    "y = train.SalePrice\n",
    "\n",
    "X_scaled = scaler.fit(X).transform(X)\n",
    "\n",
    "# 由於房價有右偏的情況，為避免極端離群值對模型預測的影響，對 target value 取 log(x)或log(1+x）\n",
    "# log 函數具有將大數變小的效果，如此做可以把右端離群值拉回使 target value 更為集中。\n",
    "y_log = np.log(train.SalePrice)\n",
    "test_X_scaled = scaler.transform(test_X)"
   ]
  },
  {
   "cell_type": "markdown",
   "metadata": {},
   "source": [
    "### 特徵組合 / 特徵選擇"
   ]
  },
  {
   "cell_type": "code",
   "execution_count": 19,
   "metadata": {},
   "outputs": [
    {
     "data": {
      "text/plain": [
       "Lasso(alpha=0.001, copy_X=True, fit_intercept=True, max_iter=1000,\n",
       "      normalize=False, positive=False, precompute=False, random_state=None,\n",
       "      selection='cyclic', tol=0.0001, warm_start=False)"
      ]
     },
     "execution_count": 19,
     "metadata": {},
     "output_type": "execute_result"
    }
   ],
   "source": [
    "# 先用Lasso篩選特徵，選出一些較重要的特徵進行組合。\n",
    "lasso = Lasso(alpha=0.001)\n",
    "lasso.fit(X_scaled, y_log)"
   ]
  },
  {
   "cell_type": "code",
   "execution_count": 20,
   "metadata": {},
   "outputs": [
    {
     "data": {
      "image/png": "[encoded data removed]",
      "text/plain": [
       "<Figure size 1080x1800 with 1 Axes>"
      ]
     },
     "metadata": {
      "needs_background": "light"
     },
     "output_type": "display_data"
    }
   ],
   "source": [
    "# 排序特徵重要程度\n",
    "feature_importance_lasso = pd.DataFrame({\"Feature Importance\":lasso.coef_}, index=data_pipe.columns)\n",
    "feature_importance_lasso.sort_values(\"Feature Importance\", ascending=False)\n",
    "feature_importance_lasso[feature_importance_lasso[\"Feature Importance\"] > 0].sort_values(\"Feature Importance\").plot(kind=\"barh\",figsize=(15,25))\n",
    "plt.xticks(rotation=90)\n",
    "plt.show()"
   ]
  },
  {
   "cell_type": "markdown",
   "metadata": {},
   "source": [
    "### 增加特徵 \n",
    "有些欄位可以互相結合成為一個新的特徵"
   ]
  },
  {
   "cell_type": "code",
   "execution_count": 21,
   "metadata": {},
   "outputs": [],
   "source": [
    "# 增加特徵\n",
    "class add_feature(BaseEstimator, TransformerMixin):\n",
    "    def __init__(self,additional=1):\n",
    "        pass\n",
    "    \n",
    "    def fit(self,X,y=None):\n",
    "        return self\n",
    "    \n",
    "    def transform(self,X):\n",
    "        X[\"TotalHouse\"] = X[\"TotalBsmtSF\"] + X[\"1stFlrSF\"] + X[\"2ndFlrSF\"]   \n",
    "        X[\"TotalArea\"] = X[\"TotalBsmtSF\"] + X[\"1stFlrSF\"] + X[\"2ndFlrSF\"] + X[\"GarageArea\"]\n",
    "\n",
    "        X[\"+_TotalHouse_OverallQual\"] = X[\"TotalHouse\"] * X[\"OverallQual\"]\n",
    "        X[\"+_GrLivArea_OverallQual\"] = X[\"GrLivArea\"] * X[\"OverallQual\"]\n",
    "        X[\"+_oMSZoning_TotalHouse\"] = X[\"oMSZoning\"] * X[\"TotalHouse\"]\n",
    "        X[\"+_oMSZoning_OverallQual\"] = X[\"oMSZoning\"] + X[\"OverallQual\"]\n",
    "        X[\"+_oMSZoning_YearBuilt\"] = X[\"oMSZoning\"] + X[\"YearBuilt\"]\n",
    "        X[\"+_oNeighborhood_TotalHouse\"] = X[\"oNeighborhood\"] * X[\"TotalHouse\"]\n",
    "        X[\"+_oNeighborhood_OverallQual\"] = X[\"oNeighborhood\"] + X[\"OverallQual\"]\n",
    "        X[\"+_oNeighborhood_YearBuilt\"] = X[\"oNeighborhood\"] + X[\"YearBuilt\"]\n",
    "        X[\"+_BsmtFinSF1_OverallQual\"] = X[\"BsmtFinSF1\"] * X[\"OverallQual\"]\n",
    "\n",
    "        X[\"-_oFunctional_TotalHouse\"] = X[\"oFunctional\"] * X[\"TotalHouse\"]\n",
    "        X[\"-_oFunctional_OverallQual\"] = X[\"oFunctional\"] + X[\"OverallQual\"]\n",
    "        X[\"-_LotArea_OverallQual\"] = X[\"LotArea\"] * X[\"OverallQual\"]\n",
    "        X[\"-_TotalHouse_LotArea\"] = X[\"TotalHouse\"] + X[\"LotArea\"]\n",
    "        X[\"-_oCondition1_TotalHouse\"] = X[\"oCondition1\"] * X[\"TotalHouse\"]\n",
    "        X[\"-_oCondition1_OverallQual\"] = X[\"oCondition1\"] + X[\"OverallQual\"]\n",
    "\n",
    "\n",
    "        X[\"Bsmt\"] = X[\"BsmtFinSF1\"] + X[\"BsmtFinSF2\"] + X[\"BsmtUnfSF\"]\n",
    "        X[\"Rooms\"] = X[\"FullBath\"]+X[\"TotRmsAbvGrd\"]\n",
    "        X[\"PorchArea\"] = X[\"OpenPorchSF\"]+X[\"EnclosedPorch\"]+X[\"3SsnPorch\"]+X[\"ScreenPorch\"]\n",
    "        X[\"TotalPlace\"] = X[\"TotalBsmtSF\"] + X[\"1stFlrSF\"] + X[\"2ndFlrSF\"] + X[\"GarageArea\"] + X[\"OpenPorchSF\"]+X[\"EnclosedPorch\"]+X[\"3SsnPorch\"]+X[\"ScreenPorch\"]\n",
    "\n",
    "\n",
    "        return X"
   ]
  },
  {
   "cell_type": "code",
   "execution_count": 22,
   "metadata": {},
   "outputs": [],
   "source": [
    "pipe = Pipeline([('label_encoding', label_encoding()), \n",
    "                 ('add_feature', add_feature()),\n",
    "                 ('skew_transform', skew_transform(skew=0.75)), \n",
    "                 ('one_hot_encoding', one_hot_encoding())])"
   ]
  },
  {
   "cell_type": "code",
   "execution_count": 23,
   "metadata": {},
   "outputs": [
    {
     "name": "stdout",
     "output_type": "stream",
     "text": [
      "(2919, 422)\n"
     ]
    }
   ],
   "source": [
    "full_pipe = pipe.fit_transform(alldata)\n",
    "print(full_pipe.shape)"
   ]
  },
  {
   "cell_type": "code",
   "execution_count": 24,
   "metadata": {},
   "outputs": [],
   "source": [
    "n_train=train.shape[0]\n",
    "X = full_pipe[:n_train]\n",
    "test_X = full_pipe[n_train:]\n",
    "y= train.SalePrice\n",
    "\n",
    "X_scaled = scaler.fit(X).transform(X)\n",
    "y_log = np.log(train.SalePrice)\n",
    "test_X_scaled = scaler.transform(test_X)"
   ]
  },
  {
   "cell_type": "code",
   "execution_count": 25,
   "metadata": {},
   "outputs": [],
   "source": [
    "pca = PCA(n_components=410)"
   ]
  },
  {
   "cell_type": "code",
   "execution_count": 26,
   "metadata": {},
   "outputs": [
    {
     "name": "stdout",
     "output_type": "stream",
     "text": [
      "(1460, 410) (1459, 410)\n"
     ]
    }
   ],
   "source": [
    "X_scaled=pca.fit_transform(X_scaled)\n",
    "test_X_scaled = pca.transform(test_X_scaled)\n",
    "print(X_scaled.shape, test_X_scaled.shape)"
   ]
  },
  {
   "cell_type": "markdown",
   "metadata": {},
   "source": [
    "### 集成方法 (Ensemble Methods)"
   ]
  },
  {
   "cell_type": "code",
   "execution_count": 27,
   "metadata": {},
   "outputs": [],
   "source": [
    "class stacking(BaseEstimator, RegressorMixin, TransformerMixin):\n",
    "    def __init__(self,mod,meta_model):\n",
    "        self.mod = mod\n",
    "        self.meta_model = meta_model\n",
    "        self.kf = KFold(n_splits=5, random_state=42, shuffle=True)\n",
    "        \n",
    "    def fit(self,X,y):\n",
    "        self.saved_model = [list() for i in self.mod]\n",
    "        oof_train = np.zeros((X.shape[0], len(self.mod)))\n",
    "        \n",
    "        for i,model in enumerate(self.mod):\n",
    "            for train_index, val_index in self.kf.split(X,y):\n",
    "                renew_model = clone(model)\n",
    "                renew_model.fit(X[train_index], y[train_index])\n",
    "                self.saved_model[i].append(renew_model)\n",
    "                oof_train[val_index,i] = renew_model.predict(X[val_index])\n",
    "        \n",
    "        self.meta_model.fit(oof_train,y)\n",
    "        return self\n",
    "    \n",
    "    def predict(self,X):\n",
    "        whole_test = np.column_stack([np.column_stack(model.predict(X) for model in single_model).mean(axis=1) \n",
    "                                      for single_model in self.saved_model]) \n",
    "        return self.meta_model.predict(whole_test)\n",
    "    \n",
    "    def get_oof(self,X,y,test_X):\n",
    "        oof = np.zeros((X.shape[0],len(self.mod)))\n",
    "        test_single = np.zeros((test_X.shape[0],5))\n",
    "        test_mean = np.zeros((test_X.shape[0],len(self.mod)))\n",
    "        for i,model in enumerate(self.mod):\n",
    "            for j, (train_index,val_index) in enumerate(self.kf.split(X,y)):\n",
    "                clone_model = clone(model)\n",
    "                clone_model.fit(X[train_index],y[train_index])\n",
    "                oof[val_index,i] = clone_model.predict(X[val_index])\n",
    "                test_single[:,j] = clone_model.predict(test_X)\n",
    "            test_mean[:,i] = test_single.mean(axis=1)\n",
    "        return oof, test_mean"
   ]
  },
  {
   "cell_type": "code",
   "execution_count": 28,
   "metadata": {},
   "outputs": [],
   "source": [
    "lasso = Lasso(alpha=0.0005,max_iter=10000)\n",
    "ridge = Ridge(alpha=60)\n",
    "svr = SVR(gamma= 0.0004,kernel='rbf',C=13,epsilon=0.009)\n",
    "ker = KernelRidge(alpha=0.2 ,kernel='polynomial',degree=3 , coef0=0.8)\n",
    "ela = ElasticNet(alpha=0.005,l1_ratio=0.08,max_iter=10000)\n",
    "bay = BayesianRidge()\n",
    "stack_model = stacking(mod=[lasso,ridge,svr,ker,ela,bay],meta_model=ker)"
   ]
  },
  {
   "cell_type": "code",
   "execution_count": 29,
   "metadata": {},
   "outputs": [
    {
     "name": "stderr",
     "output_type": "stream",
     "text": [
      "/opt/conda/lib/python3.7/site-packages/sklearn/utils/deprecation.py:66: DeprecationWarning: Class Imputer is deprecated; Imputer was deprecated in version 0.20 and will be removed in 0.22. Import impute.SimpleImputer from sklearn instead.\n",
      "  warnings.warn(msg, category=DeprecationWarning)\n",
      "/opt/conda/lib/python3.7/site-packages/sklearn/utils/deprecation.py:66: DeprecationWarning: Class Imputer is deprecated; Imputer was deprecated in version 0.20 and will be removed in 0.22. Import impute.SimpleImputer from sklearn instead.\n",
      "  warnings.warn(msg, category=DeprecationWarning)\n"
     ]
    }
   ],
   "source": [
    "a = Imputer().fit_transform(X_scaled)\n",
    "b = Imputer().fit_transform(y_log.values.reshape(-1,1)).ravel()"
   ]
  },
  {
   "cell_type": "code",
   "execution_count": 30,
   "metadata": {},
   "outputs": [
    {
     "data": {
      "text/plain": [
       "stacking(meta_model=KernelRidge(alpha=0.2, coef0=0.8, degree=3, gamma=None,\n",
       "                                kernel='polynomial', kernel_params=None),\n",
       "         mod=[Lasso(alpha=0.0005, copy_X=True, fit_intercept=True,\n",
       "                    max_iter=10000, normalize=False, positive=False,\n",
       "                    precompute=False, random_state=None, selection='cyclic',\n",
       "                    tol=0.0001, warm_start=False),\n",
       "              Ridge(alpha=60, copy_X=True, fit_intercept=True, max_iter...\n",
       "              ElasticNet(alpha=0.005, copy_X=True, fit_intercept=True,\n",
       "                         l1_ratio=0.08, max_iter=10000, normalize=False,\n",
       "                         positive=False, precompute=False, random_state=None,\n",
       "                         selection='cyclic', tol=0.0001, warm_start=False),\n",
       "              BayesianRidge(alpha_1=1e-06, alpha_2=1e-06, compute_score=False,\n",
       "                            copy_X=True, fit_intercept=True, lambda_1=1e-06,\n",
       "                            lambda_2=1e-06, n_iter=300, normalize=False,\n",
       "                            tol=0.001, verbose=False)])"
      ]
     },
     "execution_count": 30,
     "metadata": {},
     "output_type": "execute_result"
    }
   ],
   "source": [
    "stack_model.fit(a, b)"
   ]
  },
  {
   "cell_type": "code",
   "execution_count": 31,
   "metadata": {},
   "outputs": [
    {
     "name": "stderr",
     "output_type": "stream",
     "text": [
      "/opt/conda/lib/python3.7/site-packages/ipykernel_launcher.py:23: FutureWarning: arrays to stack must be passed as a \"sequence\" type such as list or tuple. Support for non-sequence iterables such as generators is deprecated as of NumPy 1.16 and will raise an error in the future.\n",
      "/opt/conda/lib/python3.7/site-packages/ipykernel_launcher.py:23: FutureWarning: arrays to stack must be passed as a \"sequence\" type such as list or tuple. Support for non-sequence iterables such as generators is deprecated as of NumPy 1.16 and will raise an error in the future.\n",
      "/opt/conda/lib/python3.7/site-packages/ipykernel_launcher.py:23: FutureWarning: arrays to stack must be passed as a \"sequence\" type such as list or tuple. Support for non-sequence iterables such as generators is deprecated as of NumPy 1.16 and will raise an error in the future.\n",
      "/opt/conda/lib/python3.7/site-packages/ipykernel_launcher.py:23: FutureWarning: arrays to stack must be passed as a \"sequence\" type such as list or tuple. Support for non-sequence iterables such as generators is deprecated as of NumPy 1.16 and will raise an error in the future.\n",
      "/opt/conda/lib/python3.7/site-packages/ipykernel_launcher.py:23: FutureWarning: arrays to stack must be passed as a \"sequence\" type such as list or tuple. Support for non-sequence iterables such as generators is deprecated as of NumPy 1.16 and will raise an error in the future.\n",
      "/opt/conda/lib/python3.7/site-packages/ipykernel_launcher.py:23: FutureWarning: arrays to stack must be passed as a \"sequence\" type such as list or tuple. Support for non-sequence iterables such as generators is deprecated as of NumPy 1.16 and will raise an error in the future.\n"
     ]
    }
   ],
   "source": [
    "pred = np.exp(stack_model.predict(test_X_scaled))"
   ]
  },
  {
   "cell_type": "code",
   "execution_count": 32,
   "metadata": {},
   "outputs": [],
   "source": [
    "result=pd.DataFrame({'Id':test.Id, 'SalePrice':pred})\n",
    "result.to_csv(\"submission.csv\",index=False)"
   ]
  },
  {
   "cell_type": "code",
   "execution_count": null,
   "metadata": {},
   "outputs": [],
   "source": []
  }
 ],
 "metadata": {
  "kernelspec": {
   "display_name": "Python 3",
   "language": "python",
   "name": "python3"
  },
  "language_info": {
   "codemirror_mode": {
    "name": "ipython",
    "version": 3
   },
   "file_extension": ".py",
   "mimetype": "text/x-python",
   "name": "python",
   "nbconvert_exporter": "python",
   "pygments_lexer": "ipython3",
   "version": "3.7.3"
  }
 },
 "nbformat": 4,
 "nbformat_minor": 5
}
